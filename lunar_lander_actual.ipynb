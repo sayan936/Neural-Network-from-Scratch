{
 "cells": [
  {
   "cell_type": "code",
   "execution_count": 27,
   "id": "e4acb19c",
   "metadata": {},
   "outputs": [],
   "source": [
    "import pandas as pd\n",
    "import numpy as np\n",
    "from numpy import exp, array, random, dot\n",
    "\n",
    "df = pd.read_csv('ce889_dataCollection.csv',header = None)\n",
    "df.columns = ['X1','X2','y1','y2']"
   ]
  },
  {
   "cell_type": "code",
   "execution_count": 28,
   "id": "da86cd69",
   "metadata": {
    "scrolled": true
   },
   "outputs": [
    {
     "data": {
      "text/html": [
       "<div>\n",
       "<style scoped>\n",
       "    .dataframe tbody tr th:only-of-type {\n",
       "        vertical-align: middle;\n",
       "    }\n",
       "\n",
       "    .dataframe tbody tr th {\n",
       "        vertical-align: top;\n",
       "    }\n",
       "\n",
       "    .dataframe thead th {\n",
       "        text-align: right;\n",
       "    }\n",
       "</style>\n",
       "<table border=\"1\" class=\"dataframe\">\n",
       "  <thead>\n",
       "    <tr style=\"text-align: right;\">\n",
       "      <th></th>\n",
       "      <th>X1</th>\n",
       "      <th>X2</th>\n",
       "      <th>y1</th>\n",
       "      <th>y2</th>\n",
       "    </tr>\n",
       "  </thead>\n",
       "  <tbody>\n",
       "    <tr>\n",
       "      <th>0</th>\n",
       "      <td>0.154064</td>\n",
       "      <td>0.506504</td>\n",
       "      <td>0.365079</td>\n",
       "      <td>0.472685</td>\n",
       "    </tr>\n",
       "    <tr>\n",
       "      <th>1</th>\n",
       "      <td>0.154064</td>\n",
       "      <td>0.506504</td>\n",
       "      <td>0.357143</td>\n",
       "      <td>0.476276</td>\n",
       "    </tr>\n",
       "    <tr>\n",
       "      <th>2</th>\n",
       "      <td>0.154038</td>\n",
       "      <td>0.506642</td>\n",
       "      <td>0.349206</td>\n",
       "      <td>0.472685</td>\n",
       "    </tr>\n",
       "    <tr>\n",
       "      <th>3</th>\n",
       "      <td>0.154038</td>\n",
       "      <td>0.506919</td>\n",
       "      <td>0.341270</td>\n",
       "      <td>0.476276</td>\n",
       "    </tr>\n",
       "    <tr>\n",
       "      <th>4</th>\n",
       "      <td>0.154012</td>\n",
       "      <td>0.507334</td>\n",
       "      <td>0.333333</td>\n",
       "      <td>0.472685</td>\n",
       "    </tr>\n",
       "    <tr>\n",
       "      <th>...</th>\n",
       "      <td>...</td>\n",
       "      <td>...</td>\n",
       "      <td>...</td>\n",
       "      <td>...</td>\n",
       "    </tr>\n",
       "    <tr>\n",
       "      <th>16680</th>\n",
       "      <td>0.517464</td>\n",
       "      <td>0.047488</td>\n",
       "      <td>0.930628</td>\n",
       "      <td>0.786263</td>\n",
       "    </tr>\n",
       "    <tr>\n",
       "      <th>16681</th>\n",
       "      <td>0.515201</td>\n",
       "      <td>0.037639</td>\n",
       "      <td>0.930628</td>\n",
       "      <td>0.786263</td>\n",
       "    </tr>\n",
       "    <tr>\n",
       "      <th>16682</th>\n",
       "      <td>0.512939</td>\n",
       "      <td>0.027791</td>\n",
       "      <td>0.930628</td>\n",
       "      <td>0.786263</td>\n",
       "    </tr>\n",
       "    <tr>\n",
       "      <th>16683</th>\n",
       "      <td>0.510676</td>\n",
       "      <td>0.017942</td>\n",
       "      <td>0.930628</td>\n",
       "      <td>0.786263</td>\n",
       "    </tr>\n",
       "    <tr>\n",
       "      <th>16684</th>\n",
       "      <td>0.508414</td>\n",
       "      <td>0.008093</td>\n",
       "      <td>0.930628</td>\n",
       "      <td>0.786263</td>\n",
       "    </tr>\n",
       "  </tbody>\n",
       "</table>\n",
       "<p>16685 rows × 4 columns</p>\n",
       "</div>"
      ],
      "text/plain": [
       "             X1        X2        y1        y2\n",
       "0      0.154064  0.506504  0.365079  0.472685\n",
       "1      0.154064  0.506504  0.357143  0.476276\n",
       "2      0.154038  0.506642  0.349206  0.472685\n",
       "3      0.154038  0.506919  0.341270  0.476276\n",
       "4      0.154012  0.507334  0.333333  0.472685\n",
       "...         ...       ...       ...       ...\n",
       "16680  0.517464  0.047488  0.930628  0.786263\n",
       "16681  0.515201  0.037639  0.930628  0.786263\n",
       "16682  0.512939  0.027791  0.930628  0.786263\n",
       "16683  0.510676  0.017942  0.930628  0.786263\n",
       "16684  0.508414  0.008093  0.930628  0.786263\n",
       "\n",
       "[16685 rows x 4 columns]"
      ]
     },
     "execution_count": 28,
     "metadata": {},
     "output_type": "execute_result"
    }
   ],
   "source": [
    "df_norm = (df - df.min())/(df.max() - df.min())\n",
    "df_norm"
   ]
  },
  {
   "cell_type": "code",
   "execution_count": 29,
   "id": "cdbd01e9",
   "metadata": {},
   "outputs": [],
   "source": [
    "df_norm.to_csv('norm.csv',index =False)"
   ]
  },
  {
   "cell_type": "code",
   "execution_count": 30,
   "id": "93a7d707",
   "metadata": {},
   "outputs": [],
   "source": [
    "X = df_norm[['X1','X2']].values\n",
    "y = df_norm[['y1','y2']].values"
   ]
  },
  {
   "cell_type": "code",
   "execution_count": 31,
   "id": "be28acb1",
   "metadata": {
    "scrolled": true
   },
   "outputs": [
    {
     "data": {
      "text/plain": [
       "array([[0.15406366, 0.50650425],\n",
       "       [0.15406366, 0.50650425],\n",
       "       [0.15403775, 0.50664246],\n",
       "       ...,\n",
       "       [0.51293881, 0.02779074],\n",
       "       [0.5106762 , 0.01794209],\n",
       "       [0.50841358, 0.00809344]])"
      ]
     },
     "execution_count": 31,
     "metadata": {},
     "output_type": "execute_result"
    }
   ],
   "source": [
    "X"
   ]
  },
  {
   "cell_type": "code",
   "execution_count": 32,
   "id": "b0595195",
   "metadata": {},
   "outputs": [],
   "source": [
    "from sklearn.model_selection import train_test_split"
   ]
  },
  {
   "cell_type": "code",
   "execution_count": 33,
   "id": "ff3d2dc0",
   "metadata": {},
   "outputs": [],
   "source": [
    "X_train, X_test, y_train, y_test = train_test_split(X,y,test_size=0.3,random_state=101)"
   ]
  },
  {
   "cell_type": "code",
   "execution_count": 34,
   "id": "327656df",
   "metadata": {},
   "outputs": [
    {
     "data": {
      "text/plain": [
       "(5006, 2)"
      ]
     },
     "execution_count": 34,
     "metadata": {},
     "output_type": "execute_result"
    }
   ],
   "source": [
    "X_test.shape"
   ]
  },
  {
   "cell_type": "code",
   "execution_count": 38,
   "id": "97fb6615",
   "metadata": {},
   "outputs": [],
   "source": [
    "import matplotlib.pyplot as plt\n",
    "class NN:\n",
    "    \n",
    "    def __init__(self):\n",
    "        \n",
    "        \n",
    "        #self.inp = x\n",
    "        self.iph = 2\n",
    "        self.oph = 2\n",
    "        self.hidden = 20\n",
    "        random.seed(42)\n",
    "        #self.w_i_h= 2 * random.random((self.hidden,self.ip)) - 1\n",
    "        \n",
    "        self.w_i_h =np.random.randn(self.hidden,self.iph)*np.sqrt(2/self.iph)\n",
    "        \n",
    "        #self.w_h_o = 2 * random.random((self.op,self.hidden)) - 1\n",
    "        \n",
    "        self.w_h_o = np.random.randn(self.oph,self.hidden) *np.sqrt(2/self.hidden)\n",
    "        \n",
    "        #self.b_i_h = 2*random.randn((1,self.hidden))-1\n",
    "        self.b_i_h = np.zeros((1,self.hidden))\n",
    "        \n",
    "        #self.b_h_o = 2*random.randn((1,self.op))-1\n",
    "        self.b_h_o = np.zeros((1,self.oph)) \n",
    "        \n",
    "        #self.epochs =epoch\n",
    "        self.w_i_h_d = 0\n",
    "        self.w_h_o_d = 0\n",
    "        \n",
    "        self.learning_rate = 0.005\n",
    "        self.alpha = 0.1\n",
    "        self.Lambda = 0.5\n",
    "        self.output_h = np.array([])\n",
    "        self.output_o = np.array([])\n",
    "        self.d = dict()\n",
    "       \n",
    "        \n",
    "    def sigmoid(self, x):\n",
    "        return 1 / (1 + exp(-x*self.Lambda))\n",
    "    \n",
    "    def sigmoid_derivative(self, x):\n",
    "        return x * (1 - x) \n",
    "    \n",
    "    #def loss(predicted,target):\n",
    "        #errors = np.substract(predicted,target)\n",
    "        \n",
    "    def forward_propagation(self,X):\n",
    "        self.output_h = self.activations(X,self.w_i_h,self.b_i_h)\n",
    "        self.output_o = self.activations(self.output_h,self.w_h_o,self.b_h_o)\n",
    "        return self.output_o\n",
    "    \n",
    "    \n",
    "    def train(self,inputs,outputs,epochs):\n",
    "        #######################Forward Propagation####################################\n",
    "        for epoch in range(epochs):\n",
    "            #output_h = self.activations(X,self.w_i_h,self.b_i_h) \n",
    "            #output_o = self.activations(output_h,self.w_h_o,self.b_h_o)\n",
    "            self.forward_propagation(inputs)\n",
    "            #print(\"output\",output)\n",
    "                     \n",
    "            error  = self.output_o-outputs\n",
    "            loss = np.sqrt(np.sum((np.square(error))/len(y_train)))\n",
    "\n",
    "            \n",
    "            self.d[epoch] = loss\n",
    "            #print(self.d)\n",
    "            #loss = np.average(np.square(error)/2)\n",
    "            \n",
    "            \n",
    "            #loss = np.average(error)\n",
    "            #se= math.sqrt(np.square( - np.average(y_train)))\n",
    "            #self.rmse.append(se)\n",
    "            \n",
    "            #print(\"loss: \",loss)\n",
    "            #print(\"rmse\",rmse)\n",
    "            #plt.plot(rmse,epoch)\n",
    "            #plt.show()\n",
    "            #print(\"error\",type(error))\n",
    "            #print(\"bias before update\",self.b_i_h)\n",
    "        ########################backward propagation####################################\n",
    "        \n",
    "        #gradient hidden -> output\n",
    "            slope_h_o = self.sigmoid_derivative(self.output_o)*self.Lambda\n",
    "            var = slope_h_o * error  ###element wise multiply\n",
    "            #print(var,var.shape)\n",
    "            \n",
    "            self.w_h_o_d = self.learning_rate * dot(var.T,self.output_h)+self.alpha*self.w_h_o_d\n",
    "            #b_h_o_d = np.sum(var,axis = 0)*self.learning_rate\n",
    "           \n",
    "        \n",
    "        \n",
    "        #gradient input ->hidden\n",
    "            slope_i_h = self.sigmoid_derivative(self.output_h)*self.Lambda\n",
    "           \n",
    "            error_i_h = dot(var,self.w_h_o)\n",
    "            \n",
    "            d_hidden_layer = error_i_h *slope_i_h #element wise multiply\n",
    "            \n",
    "            self.w_i_h_d = self.learning_rate*dot(d_hidden_layer.T,inputs)+ self.alpha*self.w_i_h_d\n",
    "            #b_i_h_d = np.sum(d_hidden_layer, axis=0) * self.learning_rate\n",
    "            \n",
    "        \n",
    "        #weight updation hidden -> output\n",
    "            self.w_h_o  -=  self.w_h_o_d * self.alpha\n",
    "            self.b_h_o -= np.sum(var,axis = 0)*self.learning_rate\n",
    "            \n",
    "            \n",
    "        \n",
    "        #weight updation  input-> hidden layer\n",
    "            self.w_i_h  -=   self.w_i_h_d * self.alpha\n",
    "            self.b_i_h -= np.sum(d_hidden_layer, axis=0) * self.learning_rate\n",
    "            \n",
    "            #print(\"weight backward propagation\",self.w_i_h)\n",
    "            #print(\"***********************************************************\")\n",
    "            #print(\"bias backward propagation\",self.b_i_h)\n",
    "    \n",
    "        \n",
    "    def activations(self,inp,w,b):\n",
    "        pred = dot(inp,w.T)+b\n",
    "        return self.sigmoid(pred)\n",
    "    \n",
    "    \n",
    "       \n",
    "   \n",
    "    "
   ]
  },
  {
   "cell_type": "code",
   "execution_count": 41,
   "id": "241a1dcb",
   "metadata": {},
   "outputs": [],
   "source": [
    "import pickle\n",
    "with open(\"nn_obj.pickle\", \"wb\") as f:\n",
    "    pickle.dump(Neural_Network, f)"
   ]
  },
  {
   "cell_type": "code",
   "execution_count": 40,
   "id": "afa4a711",
   "metadata": {},
   "outputs": [
    {
     "name": "stdout",
     "output_type": "stream",
     "text": [
      "weights after training [[ 6.21932418e-01 -2.00592395e+00  1.79689027e-01 -7.86324555e-01\n",
      "  -1.56983868e+00  1.72042541e-01  2.80340746e+00  9.85483454e-01\n",
      "  -3.84045988e-01  6.37627706e-01  7.16434431e-01  1.79942111e+00\n",
      "  -5.58520804e-01 -3.18654521e-01  7.79135748e-01 -2.43145895e+00\n",
      "   9.41460616e-01  1.55314920e+00  3.51319969e+00  2.32462732e-01]\n",
      " [ 4.50662701e-01  1.01128996e+00 -7.51631677e-01  1.32628043e+00\n",
      "   1.11006209e-03  1.65915593e-01  7.51668045e-03 -1.38697608e+00\n",
      "  -9.11808068e-01 -1.35614041e+00  2.03106211e+00  7.67906759e-01\n",
      "  -5.75167838e-01 -4.80105824e-01 -1.90644683e+00  8.58328547e-02\n",
      "   1.23646807e-02  8.33445415e-01 -8.89904003e-03 -2.55162534e+00]]\n",
      "weights after training [[ 6.56411563e-01 -4.77632354e-01]\n",
      " [ 7.39185329e-01  3.09686575e+00]\n",
      " [-7.58255403e-01 -3.00001752e-01]\n",
      " [ 1.83233485e+00  1.19305375e+00]\n",
      " [-3.93947289e-01  1.81289962e+00]\n",
      " [-2.17251479e-01 -3.75184893e-01]\n",
      " [ 2.70929500e-01 -3.86194119e+00]\n",
      " [-2.14682261e+00 -9.40294052e-01]\n",
      " [-1.45116597e+00  4.35245061e-01]\n",
      " [-1.51363326e+00 -1.56582877e+00]\n",
      " [ 2.56153753e+00 -5.00282668e-01]\n",
      " [ 6.05832246e-01 -2.42273826e+00]\n",
      " [-9.06488413e-01  4.89144455e-01]\n",
      " [-1.20381973e+00  4.49200049e-01]\n",
      " [-1.82811992e+00 -7.17019374e-01]\n",
      " [-4.34026936e-01  3.56521397e+00]\n",
      " [ 4.46172013e-03 -1.41123495e+00]\n",
      " [ 1.09784060e+00 -2.03225945e+00]\n",
      " [ 3.09178889e-01 -4.65161288e+00]\n",
      " [-2.97409081e+00  2.09925723e-01]]\n",
      "bias after training [[0.43542924 1.65930518]]\n",
      "bias after training [[ 0.11929897  1.07759951  0.06651165 -1.6157987   1.03296151  0.02446694\n",
      "  -1.42718221  2.4925822   0.05503653  0.48068531 -0.9214256  -1.36555591\n",
      "  -0.14436478 -0.13569584  1.82489816  1.54674749 -0.38396864 -1.0603402\n",
      "  -1.17379059  2.55656831]]\n"
     ]
    },
    {
     "data": {
      "image/png": "[encoded data removed]",
      "text/plain": [
       "<Figure size 1000x800 with 1 Axes>"
      ]
     },
     "metadata": {},
     "output_type": "display_data"
    },
    {
     "data": {
      "text/plain": [
       "'\\nNeural_Network.train(X_test,y_test,979) \\nprint(Neural_Network.d)\\n\\n\\nlists = sorted(Neural_Network.d.items())\\nx, y = zip(*lists) \\nplt.figure(figsize=(10,8))\\nplt.plot(x, y)\\nplt.show()\\n'"
      ]
     },
     "execution_count": 40,
     "metadata": {},
     "output_type": "execute_result"
    }
   ],
   "source": [
    "import matplotlib.pyplot as plt\n",
    "Neural_Network  = NN()\n",
    "#print(\"weight before training\",Neural_Network.w_i_h)\n",
    "#print(\" weight before training\", Neural_Network.w_h_o)\n",
    "\n",
    "#print(\"weights before training\",Neural_Network.w_h_o)\n",
    "\n",
    "Neural_Network.train(X_train,y_train,5000)\n",
    "#print(Neural_Network.d)\n",
    "\n",
    "print(\"weights after training\",Neural_Network.w_h_o)\n",
    "#rint(\"ouptut_h\", Neural_Network.output_h)\n",
    "#print(\"ouptut_h\", Neural_Network.output_h.shape)\n",
    "print(\"weights after training\",Neural_Network.w_i_h)\n",
    "\n",
    "\n",
    "print(\"bias after training\",Neural_Network.b_h_o)\n",
    "print(\"bias after training\",Neural_Network.b_i_h)\n",
    "\n",
    "\n",
    "lists = sorted(Neural_Network.d.items())\n",
    "x, y = zip(*lists) \n",
    "plt.figure(figsize=(10,8))\n",
    "plt.plot(x, y)\n",
    "plt.show()  \n",
    "\n",
    "'''\n",
    "Neural_Network.train(X_test,y_test,979) \n",
    "print(Neural_Network.d)\n",
    "\n",
    "\n",
    "lists = sorted(Neural_Network.d.items())\n",
    "x, y = zip(*lists) \n",
    "plt.figure(figsize=(10,8))\n",
    "plt.plot(x, y)\n",
    "plt.show()\n",
    "'''\n",
    "\n",
    "\n",
    "\n",
    "\n"
   ]
  },
  {
   "cell_type": "code",
   "execution_count": null,
   "id": "e3f82c45",
   "metadata": {},
   "outputs": [],
   "source": []
  },
  {
   "cell_type": "code",
   "execution_count": null,
   "id": "f2f17b86",
   "metadata": {},
   "outputs": [],
   "source": [
    "\n"
   ]
  },
  {
   "cell_type": "code",
   "execution_count": 20,
   "id": "02850c9f",
   "metadata": {},
   "outputs": [
    {
     "data": {
      "text/plain": [
       "(5923, 2)"
      ]
     },
     "execution_count": 20,
     "metadata": {},
     "output_type": "execute_result"
    }
   ],
   "source": [
    "X_test.shape"
   ]
  },
  {
   "cell_type": "code",
   "execution_count": 21,
   "id": "1549cece",
   "metadata": {},
   "outputs": [
    {
     "data": {
      "text/plain": [
       "array([[0.84563758, 0.55071346],\n",
       "       [0.5447407 , 0.4591822 ],\n",
       "       [0.21642607, 0.55146159],\n",
       "       ...,\n",
       "       [0.62302594, 0.6677582 ],\n",
       "       [0.83113787, 0.38239944],\n",
       "       [0.39597315, 0.5475619 ]])"
      ]
     },
     "execution_count": 21,
     "metadata": {},
     "output_type": "execute_result"
    }
   ],
   "source": [
    "y_test"
   ]
  },
  {
   "cell_type": "code",
   "execution_count": 185,
   "id": "4d753458",
   "metadata": {},
   "outputs": [
    {
     "data": {
      "text/plain": [
       "(2, 2)"
      ]
     },
     "execution_count": 185,
     "metadata": {},
     "output_type": "execute_result"
    }
   ],
   "source": []
  },
  {
   "cell_type": "code",
   "execution_count": null,
   "id": "a2b1059e",
   "metadata": {},
   "outputs": [],
   "source": []
  },
  {
   "cell_type": "code",
   "execution_count": null,
   "id": "063b9675",
   "metadata": {},
   "outputs": [],
   "source": []
  },
  {
   "cell_type": "code",
   "execution_count": null,
   "id": "ec9c677d",
   "metadata": {},
   "outputs": [],
   "source": []
  },
  {
   "cell_type": "code",
   "execution_count": null,
   "id": "76aa7bb5",
   "metadata": {},
   "outputs": [],
   "source": []
  },
  {
   "cell_type": "code",
   "execution_count": null,
   "id": "b249ddc1",
   "metadata": {},
   "outputs": [],
   "source": []
  }
 ],
 "metadata": {
  "kernelspec": {
   "display_name": "Python 3 (ipykernel)",
   "language": "python",
   "name": "python3"
  },
  "language_info": {
   "codemirror_mode": {
    "name": "ipython",
    "version": 3
   },
   "file_extension": ".py",
   "mimetype": "text/x-python",
   "name": "python",
   "nbconvert_exporter": "python",
   "pygments_lexer": "ipython3",
   "version": "3.8.13"
  }
 },
 "nbformat": 4,
 "nbformat_minor": 5
}
